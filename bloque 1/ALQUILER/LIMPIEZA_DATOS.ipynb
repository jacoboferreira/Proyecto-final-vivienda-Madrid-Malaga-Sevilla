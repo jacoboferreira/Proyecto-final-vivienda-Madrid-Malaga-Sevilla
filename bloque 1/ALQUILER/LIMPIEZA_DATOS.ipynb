{
 "cells": [
  {
   "cell_type": "code",
   "execution_count": 1,
   "id": "77ab2c54",
   "metadata": {},
   "outputs": [],
   "source": [
    "import pandas as pd\n",
    "\n",
    "import os"
   ]
  },
  {
   "cell_type": "code",
   "execution_count": 4,
   "id": "5b85c555",
   "metadata": {},
   "outputs": [
    {
     "name": "stdout",
     "output_type": "stream",
     "text": [
      "(3569, 49)\n"
     ]
    }
   ],
   "source": [
    "# Ruta a la carpeta donde están los archivos Excel\n",
    "carpeta = 'C:\\\\Users\\\\LENOVO\\\\Desktop\\\\Jacobo\\\\DATOS PISOS\\\\MALAGA\\\\ALQUILER'\n",
    "# Lista de archivos Excel en esa carpeta\n",
    "archivos_excel = [f for f in os.listdir(carpeta) if f.endswith('.xlsx')]\n",
    "\n",
    "# Lista para almacenar los DataFrames\n",
    "dataframes = []\n",
    "\n",
    "# Leer cada archivo y añadirlo a la lista\n",
    "for archivo in archivos_excel:\n",
    "    ruta_completa = os.path.join(carpeta, archivo)\n",
    "    df = pd.read_excel(ruta_completa)\n",
    "    df['archivo_origen'] = archivo  # (opcional) para saber de dónde vino\n",
    "    dataframes.append(df)\n",
    "\n",
    "# Unir todos los DataFrames en uno solo\n",
    "df_unido = pd.concat(dataframes, ignore_index=True)\n",
    "\n",
    "# Ver resultado\n",
    "print(df_unido.shape)"
   ]
  },
  {
   "cell_type": "code",
   "execution_count": 7,
   "id": "63d1eee6",
   "metadata": {},
   "outputs": [],
   "source": [
    "df_unido.to_excel('DATOS-CONJUNTOS-MALAGA.xlsx')"
   ]
  }
 ],
 "metadata": {
  "kernelspec": {
   "display_name": "Python 3",
   "language": "python",
   "name": "python3"
  },
  "language_info": {
   "codemirror_mode": {
    "name": "ipython",
    "version": 3
   },
   "file_extension": ".py",
   "mimetype": "text/x-python",
   "name": "python",
   "nbconvert_exporter": "python",
   "pygments_lexer": "ipython3",
   "version": "3.13.1"
  }
 },
 "nbformat": 4,
 "nbformat_minor": 5
}
