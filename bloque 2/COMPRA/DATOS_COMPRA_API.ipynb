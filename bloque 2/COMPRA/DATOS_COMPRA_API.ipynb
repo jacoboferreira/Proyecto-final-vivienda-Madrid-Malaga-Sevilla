{
 "cells": [
  {
   "cell_type": "code",
   "execution_count": 1,
   "id": "24f27bb7",
   "metadata": {},
   "outputs": [],
   "source": [
    "import base64\n",
    "import pandas as pd\n",
    "import requests as rq\n",
    "import json\n",
    "from datetime import date"
   ]
  },
  {
   "cell_type": "code",
   "execution_count": null,
   "id": "7da8f2c5",
   "metadata": {},
   "outputs": [
    {
     "name": "stdout",
     "output_type": "stream",
     "text": [
      "Descargando página 1/45...\n",
      "Descargando página 2/45...\n",
      "Descargando página 3/45...\n",
      "Descargando página 4/45...\n",
      "Descargando página 5/45...\n",
      "Descargando página 6/45...\n",
      "Descargando página 7/45...\n",
      "Descargando página 8/45...\n",
      "Descargando página 9/45...\n",
      "Descargando página 10/45...\n",
      "Descargando página 11/45...\n",
      "Descargando página 12/45...\n",
      "Descargando página 13/45...\n",
      "Descargando página 14/45...\n",
      "Descargando página 15/45...\n",
      "Descargando página 16/45...\n",
      "Descargando página 17/45...\n",
      "Descargando página 18/45...\n",
      "Descargando página 19/45...\n",
      "Descargando página 20/45...\n",
      "Descargando página 21/45...\n",
      "Descargando página 22/45...\n",
      "Descargando página 23/45...\n",
      "Descargando página 24/45...\n",
      "Descargando página 25/45...\n",
      "Descargando página 26/45...\n",
      "Descargando página 27/45...\n",
      "Descargando página 28/45...\n",
      "Descargando página 29/45...\n",
      "Descargando página 30/45...\n",
      "Descargando página 31/45...\n",
      "Descargando página 32/45...\n",
      "Descargando página 33/45...\n",
      "Descargando página 34/45...\n",
      "Descargando página 35/45...\n",
      "Descargando página 36/45...\n",
      "Descargando página 37/45...\n",
      "Descargando página 38/45...\n",
      "Descargando página 39/45...\n",
      "Descargando página 40/45...\n",
      "Descargando página 41/45...\n",
      "Descargando página 42/45...\n",
      "Descargando página 43/45...\n",
      "Descargando página 44/45...\n",
      "Descargando página 45/45...\n",
      "✅ Total casas descargadas: 2250\n",
      "📂 CSV guardado como: ventas_sevilla_2025-07-23.csv\n"
     ]
    }
   ],
   "source": [
    "\n",
    "# Preparar Token\n",
    "def get_outh_token():\n",
    "    Apikey = '0gs9fabdhesbisczsyx2pjhvvxq8hg9z'\n",
    "    Secret = 'SoWh9TefKizy'\n",
    "\n",
    "    message = f\"{Apikey}:{Secret}\"\n",
    "    auth = \"Basic \" + base64.b64encode(message.encode(\"ascii\")).decode(\"ascii\")\n",
    "\n",
    "    headers_dic = {\n",
    "        \"Authorization\": auth,\n",
    "        \"Content-Type\": \"application/x-www-form-urlencoded;charset=UTF-8\"\n",
    "    }\n",
    "    data_dic = {\n",
    "        \"grant_type\": \"client_credentials\",\n",
    "        \"scope\": \"read\"\n",
    "    }\n",
    "\n",
    "    r = rq.post(\"https://api.idealista.com/oauth/token\", headers=headers_dic, data=data_dic)\n",
    "    if r.status_code != 200:\n",
    "        raise Exception(f\"Error al obtener token: {r.status_code} - {r.text}\")\n",
    "\n",
    "    return r.json()['access_token']\n",
    "\n",
    "# Buscar infromación selecionada\n",
    "def search_api(pagination=1):\n",
    "    token = get_outh_token()\n",
    "    headers = {'Authorization': 'Bearer ' + token}\n",
    "\n",
    "    data = {\n",
    "        \"operation\": \"sale\",\n",
    "        \"propertyType\": \"homes\",\n",
    "        \"center\": \"37.365733231921354,-6.007946780316465\",\n",
    "        \"distance\": 7000,  # en metros (7 km)\n",
    "        \"maxItems\": 50,\n",
    "        \"numPage\": pagination,\n",
    "        \"language\": \"es\",\n",
    "        \"country\": \"es\"\n",
    "    }\n",
    "\n",
    "    r = rq.post(\"https://api.idealista.com/3.5/es/search\", headers=headers, data=data)\n",
    "\n",
    "    if r.status_code != 200:\n",
    "        raise Exception(f\"Error en búsqueda: {r.status_code} - {r.text}\")\n",
    "\n",
    "    return r.json()\n",
    "\n",
    "# Recorrer 45 paginas\n",
    "all_houses = []\n",
    "total_pages = 45  \n",
    "\n",
    "for page in range(1, total_pages + 1):\n",
    "    print(f\"Descargando página {page}/{total_pages}...\")\n",
    "    data = search_api(page)\n",
    "\n",
    "    houses = data.get(\"elementList\", [])\n",
    "    all_houses.extend(houses)\n",
    "\n",
    "    # Parar por si no hay mas\n",
    "    if not houses:\n",
    "        break\n",
    "\n",
    "print(f\"✅ Total casas descargadas: {len(all_houses)}\")\n",
    "\n",
    "# Convertir en DataFrame\n",
    "df = pd.DataFrame(all_houses)\n",
    "\n",
    "columnas_interes = [\n",
    "    \"propertyCode\", \"price\", \"propertyType\", \"operation\",\n",
    "    \"rooms\", \"bathrooms\", \"size\", \"address\", \"province\",\n",
    "    \"municipality\", \"district\", \"neighborhood\", \"latitude\",\n",
    "    \"longitude\", \"distance\", \"exterior\", \"floor\", \"parkingSpace\", \"priceByArea\", \"detailedType\"\n",
    "]\n",
    "df = df[columnas_interes]\n",
    "\n",
    "# Gardar en csv\n",
    "nombre_csv = f\"ventas_sevilla_{date.today()}.csv\"\n",
    "df.to_csv(nombre_csv, index=False, encoding=\"utf-8-sig\")\n",
    "\n",
    "print(f\"📂 CSV guardado como: {nombre_csv}\")"
   ]
  },
  {
   "cell_type": "code",
   "execution_count": 5,
   "id": "4c920e99",
   "metadata": {},
   "outputs": [],
   "source": [
    "ruta = 'ventas_sevilla_2025-07-23.csv'\n",
    "df=pd.read_csv(ruta)"
   ]
  },
  {
   "cell_type": "code",
   "execution_count": 7,
   "id": "b20991ed",
   "metadata": {},
   "outputs": [
    {
     "data": {
      "text/plain": [
       "array(['Sevilla', 'Camas', 'Bormujos', 'San Juan de Aznalfarache',\n",
       "       'Mairena del Aljarafe', 'Tomares', 'Montequinto',\n",
       "       'Castilleja de Guzman', 'Castilleja de la Cuesta', 'Gelves',\n",
       "       'Gines', 'Palomares del Río', 'Dos Hermanas',\n",
       "       'Valencina de la Concepcion'], dtype=object)"
      ]
     },
     "execution_count": 7,
     "metadata": {},
     "output_type": "execute_result"
    }
   ],
   "source": [
    "df[\"municipality\"].unique()"
   ]
  },
  {
   "cell_type": "code",
   "execution_count": 8,
   "id": "3c9fb7ec",
   "metadata": {},
   "outputs": [
    {
     "data": {
      "text/plain": [
       "array(['Centro', 'Nervión', 'Los Remedios',\n",
       "       'Santa Justa - Miraflores - Cruz Roja', nan, 'Triana',\n",
       "       'Prado de San Sebastián - Felipe II - Bueno Monreal',\n",
       "       'La Palmera - Los Bermejales', 'Bellavista - Jardines de Hércules',\n",
       "       'El Zaudín - Club de Golf', 'Barrio Alto', 'Bulevard norte',\n",
       "       'Macarena', 'Nuevo Bulevar', 'Santa Clara', 'Las Almenas',\n",
       "       'Ciudad Aljarafe', 'Cerro Amate', 'Simon Verde', 'Santa Eufemia',\n",
       "       'Barrio Bajo', 'Condequinto', 'Pino Montano', 'Zona Universitaria',\n",
       "       'Sevilla este', 'San Jerónimo', 'Lepanto', 'Aljamar',\n",
       "       'Zona Avenida de Europa', 'Arco norte - Avda España',\n",
       "       'Zona Avda. Juan Diego', 'San Pablo', 'Cavaleri',\n",
       "       'Hacienda la Cartuja', 'Ciudad Expo'], dtype=object)"
      ]
     },
     "execution_count": 8,
     "metadata": {},
     "output_type": "execute_result"
    }
   ],
   "source": [
    "df[\"district\"].unique()"
   ]
  },
  {
   "cell_type": "code",
   "execution_count": 5,
   "id": "0336e8ac",
   "metadata": {},
   "outputs": [
    {
     "data": {
      "text/plain": [
       "array(['flat', 'chalet', 'penthouse', 'studio', 'duplex', 'countryHouse'],\n",
       "      dtype=object)"
      ]
     },
     "execution_count": 5,
     "metadata": {},
     "output_type": "execute_result"
    }
   ],
   "source": [
    "df[\"propertyType\"].unique()"
   ]
  },
  {
   "cell_type": "code",
   "execution_count": 6,
   "id": "a836bab7",
   "metadata": {},
   "outputs": [
    {
     "data": {
      "text/plain": [
       "array([\"{'hasParkingSpace': True, 'isParkingSpaceIncludedInPrice': True}\",\n",
       "       nan,\n",
       "       \"{'hasParkingSpace': True, 'isParkingSpaceIncludedInPrice': False, 'parkingSpacePrice': 60000.0}\",\n",
       "       \"{'hasParkingSpace': True, 'isParkingSpaceIncludedInPrice': False, 'parkingSpacePrice': 30000.0}\",\n",
       "       \"{'hasParkingSpace': True, 'isParkingSpaceIncludedInPrice': False, 'parkingSpacePrice': 40000.0}\",\n",
       "       \"{'hasParkingSpace': True, 'isParkingSpaceIncludedInPrice': False, 'parkingSpacePrice': 35000.0}\",\n",
       "       \"{'hasParkingSpace': True, 'isParkingSpaceIncludedInPrice': False, 'parkingSpacePrice': 20000.0}\",\n",
       "       \"{'hasParkingSpace': True, 'isParkingSpaceIncludedInPrice': False, 'parkingSpacePrice': 25000.0}\",\n",
       "       \"{'hasParkingSpace': True, 'isParkingSpaceIncludedInPrice': False, 'parkingSpacePrice': 43000.0}\",\n",
       "       \"{'hasParkingSpace': True, 'isParkingSpaceIncludedInPrice': False, 'parkingSpacePrice': 70000.0}\",\n",
       "       \"{'hasParkingSpace': True, 'isParkingSpaceIncludedInPrice': False, 'parkingSpacePrice': 65000.0}\",\n",
       "       \"{'hasParkingSpace': True, 'isParkingSpaceIncludedInPrice': False, 'parkingSpacePrice': 50000.0}\",\n",
       "       \"{'hasParkingSpace': True, 'isParkingSpaceIncludedInPrice': False, 'parkingSpacePrice': 23950.0}\",\n",
       "       \"{'hasParkingSpace': True, 'isParkingSpaceIncludedInPrice': False, 'parkingSpacePrice': 49000.0}\",\n",
       "       \"{'hasParkingSpace': True, 'isParkingSpaceIncludedInPrice': False, 'parkingSpacePrice': 37000.0}\",\n",
       "       \"{'hasParkingSpace': True, 'isParkingSpaceIncludedInPrice': False, 'parkingSpacePrice': 45000.0}\",\n",
       "       \"{'hasParkingSpace': True, 'isParkingSpaceIncludedInPrice': False, 'parkingSpacePrice': 21000.0}\",\n",
       "       \"{'hasParkingSpace': True, 'isParkingSpaceIncludedInPrice': False, 'parkingSpacePrice': 23000.0}\",\n",
       "       \"{'hasParkingSpace': True, 'isParkingSpaceIncludedInPrice': False, 'parkingSpacePrice': 42500.0}\",\n",
       "       \"{'hasParkingSpace': True, 'isParkingSpaceIncludedInPrice': False, 'parkingSpacePrice': 80000.0}\",\n",
       "       \"{'hasParkingSpace': True, 'isParkingSpaceIncludedInPrice': False, 'parkingSpacePrice': 22000.0}\",\n",
       "       \"{'hasParkingSpace': True, 'isParkingSpaceIncludedInPrice': False, 'parkingSpacePrice': 1.0}\",\n",
       "       \"{'hasParkingSpace': True, 'isParkingSpaceIncludedInPrice': False, 'parkingSpacePrice': 105000.0}\",\n",
       "       \"{'hasParkingSpace': True, 'isParkingSpaceIncludedInPrice': False, 'parkingSpacePrice': 120000.0}\",\n",
       "       \"{'hasParkingSpace': True, 'isParkingSpaceIncludedInPrice': False, 'parkingSpacePrice': 78000.0}\",\n",
       "       \"{'hasParkingSpace': True, 'isParkingSpaceIncludedInPrice': False, 'parkingSpacePrice': 55000.0}\",\n",
       "       \"{'hasParkingSpace': True, 'isParkingSpaceIncludedInPrice': False, 'parkingSpacePrice': 27000.0}\"],\n",
       "      dtype=object)"
      ]
     },
     "execution_count": 6,
     "metadata": {},
     "output_type": "execute_result"
    }
   ],
   "source": [
    "df['parkingSpace'].unique()"
   ]
  },
  {
   "cell_type": "code",
   "execution_count": 7,
   "id": "a9a4ab92",
   "metadata": {},
   "outputs": [
    {
     "data": {
      "text/plain": [
       "array([\"{'typology': 'flat'}\",\n",
       "       \"{'typology': 'chalet', 'subTypology': 'independantHouse'}\",\n",
       "       \"{'typology': 'flat', 'subTypology': 'penthouse'}\",\n",
       "       \"{'typology': 'flat', 'subTypology': 'studio'}\",\n",
       "       \"{'typology': 'chalet', 'subTypology': 'terracedHouse'}\",\n",
       "       \"{'typology': 'flat', 'subTypology': 'duplex'}\",\n",
       "       \"{'typology': 'chalet'}\",\n",
       "       \"{'typology': 'chalet', 'subTypology': 'semidetachedHouse'}\",\n",
       "       \"{'typology': 'countryHouse', 'subTypology': 'casaDePueblo'}\"],\n",
       "      dtype=object)"
      ]
     },
     "execution_count": 7,
     "metadata": {},
     "output_type": "execute_result"
    }
   ],
   "source": [
    "df[\"detailedType\"].unique()"
   ]
  },
  {
   "cell_type": "code",
   "execution_count": 10,
   "id": "ab264539",
   "metadata": {},
   "outputs": [
    {
     "data": {
      "text/plain": [
       "propertyType\n",
       "flat            1574\n",
       "chalet           507\n",
       "duplex            82\n",
       "penthouse         71\n",
       "studio            15\n",
       "countryHouse       1\n",
       "Name: count, dtype: int64"
      ]
     },
     "execution_count": 10,
     "metadata": {},
     "output_type": "execute_result"
    }
   ],
   "source": [
    "df[\"propertyType\"].value_counts()\n"
   ]
  },
  {
   "cell_type": "markdown",
   "id": "f9e067d4",
   "metadata": {},
   "source": [
    "\"rooms\", \"bathrooms\""
   ]
  },
  {
   "cell_type": "code",
   "execution_count": 11,
   "id": "d4364d08",
   "metadata": {},
   "outputs": [
    {
     "data": {
      "text/plain": [
       "bathrooms\n",
       "2     969\n",
       "1     773\n",
       "3     334\n",
       "4      92\n",
       "5      37\n",
       "6      20\n",
       "7      13\n",
       "8       5\n",
       "13      2\n",
       "0       2\n",
       "11      2\n",
       "24      1\n",
       "Name: count, dtype: int64"
      ]
     },
     "execution_count": 11,
     "metadata": {},
     "output_type": "execute_result"
    }
   ],
   "source": [
    "df[\"bathrooms\"].value_counts()"
   ]
  },
  {
   "cell_type": "code",
   "execution_count": 12,
   "id": "ccb6e804",
   "metadata": {},
   "outputs": [
    {
     "data": {
      "text/plain": [
       "rooms\n",
       "3     924\n",
       "4     475\n",
       "2     394\n",
       "5     160\n",
       "1     148\n",
       "6      69\n",
       "7      28\n",
       "0      18\n",
       "8      17\n",
       "9       5\n",
       "10      3\n",
       "12      3\n",
       "11      3\n",
       "15      1\n",
       "13      1\n",
       "22      1\n",
       "Name: count, dtype: int64"
      ]
     },
     "execution_count": 12,
     "metadata": {},
     "output_type": "execute_result"
    }
   ],
   "source": [
    "df[\"rooms\"].value_counts()"
   ]
  },
  {
   "cell_type": "markdown",
   "id": "0ee85820",
   "metadata": {},
   "source": [
    "floor"
   ]
  },
  {
   "cell_type": "code",
   "execution_count": 13,
   "id": "b1fb63b7",
   "metadata": {},
   "outputs": [
    {
     "data": {
      "text/plain": [
       "floor\n",
       "1     429\n",
       "2     312\n",
       "bj    282\n",
       "3     231\n",
       "4     165\n",
       "5      91\n",
       "6      45\n",
       "7      28\n",
       "8      26\n",
       "en     19\n",
       "9      14\n",
       "11      5\n",
       "10      4\n",
       "12      3\n",
       "13      2\n",
       "ss      1\n",
       "-1      1\n",
       "Name: count, dtype: int64"
      ]
     },
     "execution_count": 13,
     "metadata": {},
     "output_type": "execute_result"
    }
   ],
   "source": [
    "df[\"floor\"].value_counts()"
   ]
  }
 ],
 "metadata": {
  "kernelspec": {
   "display_name": "base",
   "language": "python",
   "name": "python3"
  },
  "language_info": {
   "codemirror_mode": {
    "name": "ipython",
    "version": 3
   },
   "file_extension": ".py",
   "mimetype": "text/x-python",
   "name": "python",
   "nbconvert_exporter": "python",
   "pygments_lexer": "ipython3",
   "version": "3.12.7"
  }
 },
 "nbformat": 4,
 "nbformat_minor": 5
}
