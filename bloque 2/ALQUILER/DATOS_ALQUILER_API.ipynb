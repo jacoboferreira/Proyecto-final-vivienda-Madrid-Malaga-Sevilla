{
 "cells": [
  {
   "cell_type": "code",
   "execution_count": 6,
   "id": "44aac936",
   "metadata": {},
   "outputs": [],
   "source": [
    "import pandas as pd"
   ]
  },
  {
   "cell_type": "code",
   "execution_count": null,
   "id": "877e03d6",
   "metadata": {},
   "outputs": [
    {
     "name": "stdout",
     "output_type": "stream",
     "text": [
      "Descargando página 1/45...\n",
      "Descargando página 2/45...\n",
      "Descargando página 3/45...\n",
      "Descargando página 4/45...\n",
      "Descargando página 5/45...\n",
      "Descargando página 6/45...\n",
      "Descargando página 7/45...\n",
      "Descargando página 8/45...\n",
      "Descargando página 9/45...\n",
      "Descargando página 10/45...\n",
      "Descargando página 11/45...\n",
      "Descargando página 12/45...\n",
      "Descargando página 13/45...\n",
      "Descargando página 14/45...\n",
      "Descargando página 15/45...\n",
      "Descargando página 16/45...\n",
      "Descargando página 17/45...\n",
      "Descargando página 18/45...\n",
      "Descargando página 19/45...\n",
      "Descargando página 20/45...\n",
      "Descargando página 21/45...\n",
      "Descargando página 22/45...\n",
      "Descargando página 23/45...\n",
      "Descargando página 24/45...\n",
      "Descargando página 25/45...\n",
      "Descargando página 26/45...\n",
      "✅ Total casas descargadas: 1230\n",
      "📂 CSV guardado como: ventas_sevilla_2025-07-23.csv\n"
     ]
    }
   ],
   "source": [
    "import base64\n",
    "import pandas as pd\n",
    "import requests as rq\n",
    "import json\n",
    "from datetime import date\n",
    "\n",
    "# ================\n",
    "# 1. TOKEN\n",
    "# ================\n",
    "def get_outh_token():\n",
    "    Apikey = '0gs9fabdhesbisczsyx2pjhvvxq8hg9z'\n",
    "    Secret = 'SoWh9TefKizy'\n",
    "\n",
    "    message = f\"{Apikey}:{Secret}\"\n",
    "    auth = \"Basic \" + base64.b64encode(message.encode(\"ascii\")).decode(\"ascii\")\n",
    "\n",
    "    headers_dic = {\n",
    "        \"Authorization\": auth,\n",
    "        \"Content-Type\": \"application/x-www-form-urlencoded;charset=UTF-8\"\n",
    "    }\n",
    "    data_dic = {\n",
    "        \"grant_type\": \"client_credentials\",\n",
    "        \"scope\": \"read\"\n",
    "    }\n",
    "\n",
    "    r = rq.post(\"https://api.idealista.com/oauth/token\", headers=headers_dic, data=data_dic)\n",
    "    if r.status_code != 200:\n",
    "        raise Exception(f\"Error al obtener token: {r.status_code} - {r.text}\")\n",
    "\n",
    "    return r.json()['access_token']\n",
    "\n",
    "# ================\n",
    "# 2. BÚSQUEDA (POR PÁGINA)\n",
    "# ================\n",
    "def search_api(pagination=1):\n",
    "    token = get_outh_token()\n",
    "    headers = {'Authorization': 'Bearer ' + token}\n",
    "\n",
    "    data = {\n",
    "        \"operation\": \"rent\",\n",
    "        \"propertyType\": \"homes\",\n",
    "        \"center\": \"37.365733231921354,-6.007946780316465\",\n",
    "        \"distance\": 7000,  # en metros (7 km)\n",
    "        \"maxItems\": 50,\n",
    "        \"numPage\": pagination,\n",
    "        \"language\": \"es\",\n",
    "        \"country\": \"es\"\n",
    "    }\n",
    "\n",
    "    r = rq.post(\"https://api.idealista.com/3.5/es/search\", headers=headers, data=data)\n",
    "\n",
    "    if r.status_code != 200:\n",
    "        raise Exception(f\"Error en búsqueda: {r.status_code} - {r.text}\")\n",
    "\n",
    "    return r.json()\n",
    "\n",
    "# ================\n",
    "# 3. RECORRER HASTA 3000 CASAS\n",
    "# ================\n",
    "all_houses = []\n",
    "total_pages = 45  # 3000 casas = 60 páginas de 50 resultados\n",
    "\n",
    "for page in range(1, total_pages + 1):\n",
    "    print(f\"Descargando página {page}/{total_pages}...\")\n",
    "    data = search_api(page)\n",
    "\n",
    "    houses = data.get(\"elementList\", [])\n",
    "    all_houses.extend(houses)\n",
    "\n",
    "    # Si ya no hay más resultados, paramos\n",
    "    if not houses:\n",
    "        break\n",
    "\n",
    "print(f\"✅ Total casas descargadas: {len(all_houses)}\")\n",
    "\n",
    "# ================\n",
    "# 4. CONVERTIR A DATAFRAME\n",
    "# ================\n",
    "df = pd.DataFrame(all_houses)\n",
    "\n",
    "columnas_interes = [\n",
    "    \"propertyCode\", \"price\", \"propertyType\", \"operation\",\n",
    "    \"rooms\", \"bathrooms\", \"size\", \"address\", \"province\",\n",
    "    \"municipality\", \"district\", \"neighborhood\", \"latitude\",\n",
    "    \"longitude\", \"distance\", \"exterior\", \"floor\", \"parkingSpace\", \"priceByArea\", \"detailedType\"\n",
    "]\n",
    "df = df[columnas_interes]\n",
    "\n",
    "# ================\n",
    "# 5. GUARDAR EN CSV\n",
    "# ================\n",
    "nombre_csv = f\"Alquiler_sevilla_{date.today()}.csv\"\n",
    "df.to_csv(nombre_csv, index=False, encoding=\"utf-8-sig\")\n",
    "\n",
    "print(f\"📂 CSV guardado como: {nombre_csv}\")"
   ]
  },
  {
   "cell_type": "code",
   "execution_count": 7,
   "id": "9d17750e",
   "metadata": {},
   "outputs": [],
   "source": [
    "ruta = 'Alquiler_sevilla_2025-07-23.csv'\n",
    "df = pd.read_csv(ruta)"
   ]
  },
  {
   "cell_type": "code",
   "execution_count": 4,
   "id": "3a1abcbf",
   "metadata": {},
   "outputs": [
    {
     "data": {
      "text/plain": [
       "Index(['propertyCode', 'price', 'propertyType', 'operation', 'rooms',\n",
       "       'bathrooms', 'size', 'address', 'province', 'municipality', 'district',\n",
       "       'neighborhood', 'latitude', 'longitude', 'distance', 'exterior',\n",
       "       'floor', 'parkingSpace', 'priceByArea', 'detailedType'],\n",
       "      dtype='object')"
      ]
     },
     "execution_count": 4,
     "metadata": {},
     "output_type": "execute_result"
    }
   ],
   "source": [
    "df.columns"
   ]
  },
  {
   "cell_type": "code",
   "execution_count": 8,
   "id": "6d8114a7",
   "metadata": {},
   "outputs": [
    {
     "data": {
      "text/plain": [
       "array(['Prado de San Sebastián - Felipe II - Bueno Monreal', 'Nervión',\n",
       "       'La Palmera - Los Bermejales', 'Macarena', 'Centro',\n",
       "       'Los Remedios', 'Cerro Amate',\n",
       "       'Santa Justa - Miraflores - Cruz Roja', 'Condequinto',\n",
       "       'Ciudad Aljarafe', 'Las Almenas', nan, 'Santa Clara', 'San Pablo',\n",
       "       'Triana', 'Bellavista - Jardines de Hércules', 'Lepanto',\n",
       "       'Zona Universitaria', 'Simon Verde', 'Barrio Alto', 'Barrio Bajo',\n",
       "       'Pino Montano', 'Aljamar', 'Santa Eufemia',\n",
       "       'El Zaudín - Club de Golf', 'Ciudad Expo', 'Sevilla este',\n",
       "       'Zona Avda. Juan Diego', 'Arco norte - Avda España',\n",
       "       'San Jerónimo', 'Nuevo Bulevar', 'Zona Avenida de Europa'],\n",
       "      dtype=object)"
      ]
     },
     "execution_count": 8,
     "metadata": {},
     "output_type": "execute_result"
    }
   ],
   "source": [
    "df['district'].unique()"
   ]
  },
  {
   "cell_type": "code",
   "execution_count": 5,
   "id": "e347a249",
   "metadata": {},
   "outputs": [
    {
     "data": {
      "text/plain": [
       "array([\"{'hasParkingSpace': True, 'isParkingSpaceIncludedInPrice': True}\",\n",
       "       nan,\n",
       "       \"{'hasParkingSpace': True, 'isParkingSpaceIncludedInPrice': False, 'parkingSpacePrice': 35.0}\",\n",
       "       \"{'hasParkingSpace': True, 'isParkingSpaceIncludedInPrice': False, 'parkingSpacePrice': 40.0}\",\n",
       "       \"{'hasParkingSpace': True, 'isParkingSpaceIncludedInPrice': False, 'parkingSpacePrice': 100.0}\",\n",
       "       \"{'hasParkingSpace': True, 'isParkingSpaceIncludedInPrice': False, 'parkingSpacePrice': 140.0}\",\n",
       "       \"{'hasParkingSpace': True, 'isParkingSpaceIncludedInPrice': False, 'parkingSpacePrice': 150.0}\",\n",
       "       \"{'hasParkingSpace': True, 'isParkingSpaceIncludedInPrice': False, 'parkingSpacePrice': 50.0}\",\n",
       "       \"{'hasParkingSpace': True, 'isParkingSpaceIncludedInPrice': False, 'parkingSpacePrice': 190.0}\",\n",
       "       \"{'hasParkingSpace': True, 'isParkingSpaceIncludedInPrice': False, 'parkingSpacePrice': 75.0}\",\n",
       "       \"{'hasParkingSpace': True, 'isParkingSpaceIncludedInPrice': False, 'parkingSpacePrice': 250.0}\",\n",
       "       \"{'hasParkingSpace': True, 'isParkingSpaceIncludedInPrice': False, 'parkingSpacePrice': 120.0}\",\n",
       "       \"{'hasParkingSpace': True, 'isParkingSpaceIncludedInPrice': False, 'parkingSpacePrice': 80000.0}\",\n",
       "       \"{'hasParkingSpace': True, 'isParkingSpaceIncludedInPrice': False, 'parkingSpacePrice': 160.0}\",\n",
       "       \"{'hasParkingSpace': True, 'isParkingSpaceIncludedInPrice': False, 'parkingSpacePrice': 105.0}\",\n",
       "       \"{'hasParkingSpace': True, 'isParkingSpaceIncludedInPrice': False, 'parkingSpacePrice': 200.0}\",\n",
       "       \"{'hasParkingSpace': True, 'isParkingSpaceIncludedInPrice': False, 'parkingSpacePrice': 170.0}\"],\n",
       "      dtype=object)"
      ]
     },
     "execution_count": 5,
     "metadata": {},
     "output_type": "execute_result"
    }
   ],
   "source": [
    "df['parkingSpace'].unique()"
   ]
  },
  {
   "cell_type": "code",
   "execution_count": 3,
   "id": "2fc719a1",
   "metadata": {},
   "outputs": [
    {
     "data": {
      "text/plain": [
       "bathrooms\n",
       "1    790\n",
       "2    363\n",
       "3     54\n",
       "4     16\n",
       "5      4\n",
       "6      2\n",
       "8      1\n",
       "Name: count, dtype: int64"
      ]
     },
     "execution_count": 3,
     "metadata": {},
     "output_type": "execute_result"
    }
   ],
   "source": [
    "df[\"bathrooms\"].value_counts()"
   ]
  },
  {
   "cell_type": "code",
   "execution_count": 4,
   "id": "415427dc",
   "metadata": {},
   "outputs": [
    {
     "data": {
      "text/plain": [
       "rooms\n",
       "3    438\n",
       "2    295\n",
       "1    274\n",
       "4    133\n",
       "0     61\n",
       "5     25\n",
       "7      2\n",
       "6      2\n",
       "Name: count, dtype: int64"
      ]
     },
     "execution_count": 4,
     "metadata": {},
     "output_type": "execute_result"
    }
   ],
   "source": [
    "df[\"rooms\"].value_counts()"
   ]
  },
  {
   "cell_type": "code",
   "execution_count": 5,
   "id": "df9de466",
   "metadata": {},
   "outputs": [
    {
     "data": {
      "text/plain": [
       "floor\n",
       "1     296\n",
       "2     283\n",
       "3     164\n",
       "bj    162\n",
       "4     101\n",
       "5      71\n",
       "6      28\n",
       "en     27\n",
       "7      19\n",
       "8       8\n",
       "9       5\n",
       "10      4\n",
       "11      4\n",
       "12      3\n",
       "ss      2\n",
       "Name: count, dtype: int64"
      ]
     },
     "execution_count": 5,
     "metadata": {},
     "output_type": "execute_result"
    }
   ],
   "source": [
    "df[\"floor\"].value_counts()"
   ]
  }
 ],
 "metadata": {
  "kernelspec": {
   "display_name": "base",
   "language": "python",
   "name": "python3"
  },
  "language_info": {
   "codemirror_mode": {
    "name": "ipython",
    "version": 3
   },
   "file_extension": ".py",
   "mimetype": "text/x-python",
   "name": "python",
   "nbconvert_exporter": "python",
   "pygments_lexer": "ipython3",
   "version": "3.12.7"
  }
 },
 "nbformat": 4,
 "nbformat_minor": 5
}
